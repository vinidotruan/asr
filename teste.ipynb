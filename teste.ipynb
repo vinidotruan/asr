{
 "cells": [
  {
   "cell_type": "code",
   "execution_count": 3,
   "metadata": {},
   "outputs": [],
   "source": [
    "import pandas as pd\n",
    "import numpy as np\n",
    "import spacy\n",
    "\n",
    "SEED = 42\n",
    "np.random.seed(SEED)"
   ]
  },
  {
   "cell_type": "code",
   "execution_count": 4,
   "metadata": {},
   "outputs": [],
   "source": [
    "nlp = spacy.load('pt_core_news_sm')"
   ]
  },
  {
   "cell_type": "code",
   "execution_count": 5,
   "metadata": {},
   "outputs": [],
   "source": [
    "materiais = pd.read_csv('datasets/kaggle_diogo_caliman_historico_materias.csv')\n",
    "materiais_folha = pd.read_csv('datasets/kaggle_marlesson_noticias_folha_sp.csv')\n"
   ]
  },
  {
   "cell_type": "code",
   "execution_count": 10,
   "metadata": {},
   "outputs": [
    {
     "name": "stdout",
     "output_type": "stream",
     "text": [
      "sem drop de NaN\n",
      " data                 4\n",
      "url_noticia          0\n",
      "url_noticia_curto    0\n",
      "titulo               0\n",
      "conteudo_noticia     6\n",
      "assunto              0\n",
      "dtype: int64\n",
      "--------------------\n",
      "sem drop de NaN\n",
      " title               0\n",
      "text              765\n",
      "date                0\n",
      "category            0\n",
      "subcategory    137418\n",
      "link                0\n",
      "dtype: int64\n"
     ]
    }
   ],
   "source": [
    "print('sem drop de NaN\\n', materiais.isna().sum())\n",
    "print('--------------------')\n",
    "print('sem drop de NaN\\n', materiais_folha.isna().sum())"
   ]
  },
  {
   "cell_type": "code",
   "execution_count": 11,
   "metadata": {},
   "outputs": [],
   "source": [
    "materiais.fillna('0', inplace=True)\n",
    "materiais_folha.fillna('0', inplace=True)"
   ]
  },
  {
   "cell_type": "code",
   "execution_count": 12,
   "metadata": {},
   "outputs": [
    {
     "name": "stdout",
     "output_type": "stream",
     "text": [
      "fill de NaN\n",
      " data                 0\n",
      "url_noticia          0\n",
      "url_noticia_curto    0\n",
      "titulo               0\n",
      "conteudo_noticia     0\n",
      "assunto              0\n",
      "dtype: int64\n",
      "--------------------\n",
      "fill de NaN\n",
      " title          0\n",
      "text           0\n",
      "date           0\n",
      "category       0\n",
      "subcategory    0\n",
      "link           0\n",
      "dtype: int64\n"
     ]
    }
   ],
   "source": [
    "print('fill de NaN\\n', materiais.isna().sum())\n",
    "print('--------------------')\n",
    "print('fill de NaN\\n', materiais_folha.isna().sum())"
   ]
  },
  {
   "cell_type": "code",
   "execution_count": null,
   "metadata": {},
   "outputs": [],
   "source": []
  }
 ],
 "metadata": {
  "kernelspec": {
   "display_name": "Python 3.10.4 ('asr')",
   "language": "python",
   "name": "python3"
  },
  "language_info": {
   "codemirror_mode": {
    "name": "ipython",
    "version": 3
   },
   "file_extension": ".py",
   "mimetype": "text/x-python",
   "name": "python",
   "nbconvert_exporter": "python",
   "pygments_lexer": "ipython3",
   "version": "3.10.4"
  },
  "orig_nbformat": 4,
  "vscode": {
   "interpreter": {
    "hash": "7c953a7498512d603876791533a416268f5c57aee7dccdab3280fda08854755a"
   }
  }
 },
 "nbformat": 4,
 "nbformat_minor": 2
}
