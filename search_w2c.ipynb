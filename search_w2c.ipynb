{
 "cells": [
  {
   "cell_type": "code",
   "execution_count": 7,
   "metadata": {},
   "outputs": [],
   "source": [
    "import logging\n",
    "import pandas as pd\n",
    "import numpy as np\n",
    "import spacy\n",
    "import matplotlib.pyplot as plt\n",
    "import seaborn as sns\n",
    "from gensim.models import Word2Vec\n",
    "from gensim.models import KeyedVectors\n",
    "from numpy import isin\n",
    "\n",
    "SEED = 42\n",
    "np.random.seed(SEED)"
   ]
  },
  {
   "cell_type": "code",
   "execution_count": 6,
   "metadata": {},
   "outputs": [],
   "source": [
    "sg_caliman_300 = KeyedVectors.load_word2vec_format(\"models/caliman/sg_300.txt\")\n",
    "sg_caliman_600 = KeyedVectors.load_word2vec_format(\"models/caliman/sg_600.txt\")\n",
    "sg_caliman_1000 = KeyedVectors.load_word2vec_format(\"models/caliman/sg_1000.txt\")"
   ]
  },
  {
   "cell_type": "code",
   "execution_count": 7,
   "metadata": {},
   "outputs": [
    {
     "data": {
      "text/plain": [
       "[('singapura', 0.26696762442588806),\n",
       " ('asiático', 0.26026347279548645),\n",
       " ('sugere', 0.24808157980442047),\n",
       " ('hospital', 0.24716658890247345),\n",
       " ('saltou', 0.23818525671958923),\n",
       " ('bolsa', 0.23631274700164795),\n",
       " ('coreia', 0.23335440456867218),\n",
       " ('huawei', 0.23309455811977386),\n",
       " ('norte', 0.2328302562236786),\n",
       " ('williams', 0.22932052612304688)]"
      ]
     },
     "execution_count": 7,
     "metadata": {},
     "output_type": "execute_result"
    }
   ],
   "source": [
    "sg_caliman_300.most_similar(positive=['país'])"
   ]
  },
  {
   "cell_type": "code",
   "execution_count": 8,
   "metadata": {},
   "outputs": [
    {
     "data": {
      "text/plain": [
       "[('coreia', 0.20609050989151),\n",
       " ('asiático', 0.20439496636390686),\n",
       " ('mandato', 0.19728319346904755),\n",
       " ('descoberto', 0.1842692792415619),\n",
       " ('braço', 0.1842576563358307),\n",
       " ('sanções', 0.18227754533290863),\n",
       " ('williams', 0.18104296922683716),\n",
       " ('limitou', 0.18102379143238068),\n",
       " ('república', 0.17752403020858765),\n",
       " ('singapura', 0.17732176184654236)]"
      ]
     },
     "execution_count": 8,
     "metadata": {},
     "output_type": "execute_result"
    }
   ],
   "source": [
    "sg_caliman_600.most_similar(positive=['país'])"
   ]
  },
  {
   "cell_type": "code",
   "execution_count": 10,
   "metadata": {},
   "outputs": [
    {
     "data": {
      "text/plain": [
       "[('coreia', 0.1987275779247284),\n",
       " ('singapura', 0.1952003538608551),\n",
       " ('asiático', 0.19374920427799225),\n",
       " ('williams', 0.18516886234283447),\n",
       " ('descoberto', 0.18178805708885193),\n",
       " ('sanções', 0.1777128130197525),\n",
       " ('huawei', 0.17729122936725616),\n",
       " ('unidas', 0.17728351056575775),\n",
       " ('impostos', 0.17725008726119995),\n",
       " ('mandato', 0.175174742937088)]"
      ]
     },
     "execution_count": 10,
     "metadata": {},
     "output_type": "execute_result"
    }
   ],
   "source": [
    "sg_caliman_1000.most_similar('país')"
   ]
  },
  {
   "cell_type": "code",
   "execution_count": 19,
   "metadata": {},
   "outputs": [
    {
     "data": {
      "text/plain": [
       "[('ocorrência', 0.27449488639831543),\n",
       " ('boletim', 0.27002111077308655),\n",
       " ('cibernético', 0.2658914029598236),\n",
       " ('interceptação', 0.24446266889572144),\n",
       " ('silva', 0.22346553206443787),\n",
       " ('ato', 0.21915212273597717),\n",
       " ('envolvido', 0.21344363689422607),\n",
       " ('lavagem', 0.21160553395748138),\n",
       " ('encaminhar', 0.20951718091964722),\n",
       " ('prova', 0.20538650453090668)]"
      ]
     },
     "execution_count": 19,
     "metadata": {},
     "output_type": "execute_result"
    }
   ],
   "source": [
    "sg_caliman_1000.most_similar('crime')"
   ]
  },
  {
   "cell_type": "code",
   "execution_count": 18,
   "metadata": {},
   "outputs": [
    {
     "data": {
      "text/plain": [
       "[('ocorrência', 0.2835044264793396),\n",
       " ('boletim', 0.27410903573036194),\n",
       " ('cibernético', 0.2643232047557831),\n",
       " ('interceptação', 0.24132519960403442),\n",
       " ('ato', 0.23912745714187622),\n",
       " ('lavagem', 0.23390458524227142),\n",
       " ('encaminhar', 0.2270512729883194),\n",
       " ('espionar', 0.22625812888145447),\n",
       " ('prova', 0.22128178179264069),\n",
       " ('acompanham', 0.2206311970949173)]"
      ]
     },
     "execution_count": 18,
     "metadata": {},
     "output_type": "execute_result"
    }
   ],
   "source": [
    "sg_caliman_600.most_similar('crime')"
   ]
  },
  {
   "cell_type": "code",
   "execution_count": 20,
   "metadata": {},
   "outputs": [
    {
     "data": {
      "text/plain": [
       "[('interceptação', 0.3312256932258606),\n",
       " ('boletim', 0.3222527503967285),\n",
       " ('respondendo', 0.29957419633865356),\n",
       " ('cibernético', 0.28451666235923767),\n",
       " ('ato', 0.2781594693660736),\n",
       " ('correr', 0.27400705218315125),\n",
       " ('monero', 0.2695317566394806),\n",
       " ('assédio', 0.2644648849964142),\n",
       " ('criptografa', 0.2605046331882477),\n",
       " ('criptomoedas', 0.25883498787879944)]"
      ]
     },
     "execution_count": 20,
     "metadata": {},
     "output_type": "execute_result"
    }
   ],
   "source": [
    "sg_caliman_300.most_similar('crime')"
   ]
  },
  {
   "cell_type": "code",
   "execution_count": null,
   "metadata": {},
   "outputs": [],
   "source": []
  }
 ],
 "metadata": {
  "kernelspec": {
   "display_name": "Python 3.10.4 ('asr')",
   "language": "python",
   "name": "python3"
  },
  "language_info": {
   "codemirror_mode": {
    "name": "ipython",
    "version": 3
   },
   "file_extension": ".py",
   "mimetype": "text/x-python",
   "name": "python",
   "nbconvert_exporter": "python",
   "pygments_lexer": "ipython3",
   "version": "3.7.13"
  },
  "orig_nbformat": 4,
  "vscode": {
   "interpreter": {
    "hash": "7c953a7498512d603876791533a416268f5c57aee7dccdab3280fda08854755a"
   }
  }
 },
 "nbformat": 4,
 "nbformat_minor": 2
}
